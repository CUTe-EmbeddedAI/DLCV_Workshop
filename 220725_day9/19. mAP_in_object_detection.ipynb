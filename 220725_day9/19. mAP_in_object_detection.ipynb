{
 "cells": [
  {
   "cell_type": "markdown",
   "metadata": {},
   "source": [
    "Extracted from: https://blog.paperspace.com/mean-average-precision/\n",
    "\n",
    "To evaluate object detection models like R-CNN and YOLO, the mean average precision (mAP) is used. The mAP compares the ground-truth bounding box to the detected box and returns a score. The higher the score, the more accurate the model is in its detections.\n",
    "\n",
    "Here are the sections covered in this tutorial:\n",
    "\n",
    "From Prediction Score to Class Label\n",
    "Precision-Recall Curve\n",
    "Average Precision (AP)\n",
    "Intersection over Union (IoU)\n",
    "Mean Average Precision (mAP) for Object Detection\n",
    "\n",
    "## From Prediction Score to Class Label\n",
    "\n",
    "In this section we'll do a quick review of how a class label is derived from a prediction score.\n",
    "\n",
    "Given that there are two classes, Positive and Negative, here are the ground-truth labels of 10 samples."
   ]
  },
  {
   "cell_type": "code",
   "execution_count": 14,
   "metadata": {},
   "outputs": [],
   "source": [
    "y_true = [\"positive\", \"negative\", \"negative\", \"positive\", \"positive\", \"positive\", \"negative\", \"positive\", \"negative\", \"positive\"]"
   ]
  },
  {
   "cell_type": "markdown",
   "metadata": {},
   "source": [
    "When these samples are fed to the model it returns the following prediction scores. Based on these scores, how do we classify the samples (i.e. assign a class label to each sample)?"
   ]
  },
  {
   "cell_type": "code",
   "execution_count": 15,
   "metadata": {},
   "outputs": [],
   "source": [
    "pred_scores = [0.7, 0.3, 0.5, 0.6, 0.55, 0.9, 0.4, 0.2, 0.4, 0.3]"
   ]
  },
  {
   "cell_type": "markdown",
   "metadata": {},
   "source": [
    "To convert the scores into a class label, a threshold is used. When the score is equal to or above the threshold, the sample is classified as one class. Otherwise, it is classified as the other class. Let's agree that a sample is Positive if its score is above or equal to the threshold. Otherwise, it is Negative. The next block of code converts the scores into class labels with a threshold of 0.5."
   ]
  },
  {
   "cell_type": "code",
   "execution_count": 16,
   "metadata": {},
   "outputs": [
    {
     "name": "stdout",
     "output_type": "stream",
     "text": [
      "['positive', 'negative', 'positive', 'positive', 'positive', 'positive', 'negative', 'negative', 'negative', 'negative']\n"
     ]
    }
   ],
   "source": [
    "import numpy\n",
    "\n",
    "pred_scores = [0.7, 0.3, 0.5, 0.6, 0.55, 0.9, 0.4, 0.2, 0.4, 0.3]\n",
    "y_true = [\"positive\", \"negative\", \"negative\", \"positive\", \"positive\", \"positive\", \"negative\", \"positive\", \"negative\", \"positive\"]\n",
    "\n",
    "threshold = 0.5\n",
    "y_pred = [\"positive\" if score >= threshold else \"negative\" for score in pred_scores]\n",
    "print(y_pred)"
   ]
  },
  {
   "cell_type": "markdown",
   "metadata": {},
   "source": [
    "Now both the ground-truth and predicted labels are available in the y_true and y_pred variables. Based on these labels, the confusion matrix, precision, and recall can be calculated."
   ]
  },
  {
   "cell_type": "code",
   "execution_count": 17,
   "metadata": {},
   "outputs": [
    {
     "name": "stdout",
     "output_type": "stream",
     "text": [
      "[[4 2]\n",
      " [1 3]]\n",
      "0.8\n",
      "0.6666666666666666\n"
     ]
    }
   ],
   "source": [
    "import sklearn\n",
    "import sklearn.metrics \n",
    "\n",
    "r = numpy.flip(sklearn.metrics.confusion_matrix(y_true, y_pred))\n",
    "print(r)\n",
    "\n",
    "precision = sklearn.metrics.precision_score(y_true=y_true, y_pred=y_pred, pos_label=\"positive\")\n",
    "print(precision)\n",
    "\n",
    "recall = sklearn.metrics.recall_score(y_true=y_true, y_pred=y_pred, pos_label=\"positive\")\n",
    "print(recall)"
   ]
  },
  {
   "cell_type": "markdown",
   "metadata": {},
   "source": [
    "Confusion Matrix (From Left to Right & Top to Bottom: True Positive, False Negative, False Positive, True Negative)\n",
    "[[4 2]\n",
    " [1 3]]\n",
    "\n",
    "Precision = 4/(4+1)\n",
    "0.8\n",
    "\n",
    "Recall = 4/(4+2)\n",
    "0.6666666666666666\n",
    "\n",
    "<div> <img src=\"images/fig52.png\" alt=\"Drawing\" style=\"width: 500px;\"/></div> "
   ]
  },
  {
   "cell_type": "markdown",
   "metadata": {},
   "source": [
    "After this quick review of calculating the precision and recall, in the next section we'll discuss creating the precision-recall curve."
   ]
  },
  {
   "cell_type": "markdown",
   "metadata": {},
   "source": [
    "## Precision-Recall Curve\n",
    "\n",
    "From the definition of both the precision and recall, the higher the precision, the more confident the model is when it classifies a sample as Positive. The higher the recall, the more positive samples the model correctly classified as Positive.\n",
    "\n",
    "> **When a model has high recall but low precision, then the model classifies most of the positive samples correctly but it has many false positives (i.e. classifies many Negative samples as Positive). When a model has high precision but low recall, then the model is accurate when it classifies a sample as Positive but it may classify only some of the positive samples.**\n",
    "\n",
    "Due to the importance of both precision and recall, there is a precision-recall curve the shows the tradeoff between the precision and recall values for different thresholds. This curve helps to select the best threshold to maximize both metrics.\n",
    "\n",
    "There are some inputs needed to create the precision-recall curve:\n",
    "\n",
    "- The ground-truth labels.\n",
    "- The prediction scores of the samples.\n",
    "- Some thresholds to convert the prediction scores into class labels.\n",
    "\n",
    "The next block of code creates the `y_true` list to hold the ground-truth labels, the `pred_scores` list for the prediction scores, and finally the `thresholds` list for different threshold values."
   ]
  },
  {
   "cell_type": "code",
   "execution_count": 18,
   "metadata": {},
   "outputs": [
    {
     "name": "stdout",
     "output_type": "stream",
     "text": [
      "[0.2  0.25 0.3  0.35 0.4  0.45 0.5  0.55 0.6  0.65]\n"
     ]
    }
   ],
   "source": [
    "import numpy\n",
    "\n",
    "y_true = [\"positive\", \"negative\", \"negative\", \"positive\", \"positive\", \"positive\", \"negative\", \"positive\", \"negative\", \"positive\", \"positive\", \"positive\", \"positive\", \"negative\", \"negative\", \"negative\"]\n",
    "\n",
    "pred_scores = [0.7, 0.3, 0.5, 0.6, 0.55, 0.9, 0.4, 0.2, 0.4, 0.3, 0.7, 0.5, 0.8, 0.2, 0.3, 0.35]\n",
    "\n",
    "thresholds = numpy.arange(start=0.2, stop=0.7, step=0.05)\n",
    "\n",
    "# Here are the thresholds saved in the thresholds list. Because there are 10 thresholds, 10 values for precision and recall will be created.\n",
    "\n",
    "print(thresholds)"
   ]
  },
  {
   "cell_type": "markdown",
   "metadata": {},
   "source": [
    "The next function named precision_recall_curve() accepts the ground-truth labels, prediction scores, and thresholds. It returns two equal-length lists representing the precision and recall values."
   ]
  },
  {
   "cell_type": "code",
   "execution_count": 19,
   "metadata": {},
   "outputs": [],
   "source": [
    "import sklearn.metrics\n",
    "\n",
    "def precision_recall_curve(y_true, pred_scores, thresholds):\n",
    "    precisions = []\n",
    "    recalls = []\n",
    "    \n",
    "    for threshold in thresholds:\n",
    "        y_pred = [\"positive\" if score >= threshold else \"negative\" for score in pred_scores]\n",
    "\n",
    "        precision = sklearn.metrics.precision_score(y_true=y_true, y_pred=y_pred, pos_label=\"positive\")\n",
    "        recall = sklearn.metrics.recall_score(y_true=y_true, y_pred=y_pred, pos_label=\"positive\")\n",
    "        \n",
    "        precisions.append(precision)\n",
    "        recalls.append(recall)\n",
    "\n",
    "    return precisions, recalls"
   ]
  },
  {
   "cell_type": "markdown",
   "metadata": {},
   "source": [
    "The next code calls the precision_recall_curve() function after passing the three previously prepared lists. It returns the precisions and recalls lists that hold all the values of the precisions and recalls, respectively."
   ]
  },
  {
   "cell_type": "code",
   "execution_count": 20,
   "metadata": {},
   "outputs": [],
   "source": [
    "precisions, recalls = precision_recall_curve(y_true=y_true, \n",
    "                                             pred_scores=pred_scores,\n",
    "                                             thresholds=thresholds)"
   ]
  },
  {
   "cell_type": "code",
   "execution_count": 24,
   "metadata": {},
   "outputs": [
    {
     "name": "stdout",
     "output_type": "stream",
     "text": [
      "[0.5625, 0.5714285714285714, 0.5714285714285714, 0.6363636363636364, 0.7, 0.875, 0.875, 1.0, 1.0, 1.0]\n"
     ]
    }
   ],
   "source": [
    "print(precisions)"
   ]
  },
  {
   "cell_type": "code",
   "execution_count": 25,
   "metadata": {},
   "outputs": [
    {
     "name": "stdout",
     "output_type": "stream",
     "text": [
      "[1.0, 0.8888888888888888, 0.8888888888888888, 0.7777777777777778, 0.7777777777777778, 0.7777777777777778, 0.7777777777777778, 0.6666666666666666, 0.5555555555555556, 0.4444444444444444]\n"
     ]
    }
   ],
   "source": [
    "print(recalls)"
   ]
  },
  {
   "cell_type": "markdown",
   "metadata": {},
   "source": [
    "Given the two lists of equal lengths, it is possible to plot their values in a 2D plot as shown below."
   ]
  },
  {
   "cell_type": "code",
   "execution_count": 28,
   "metadata": {},
   "outputs": [
    {
     "data": {
      "image/png": "[encoded data removed]",
      "text/plain": [
       "<Figure size 432x288 with 1 Axes>"
      ]
     },
     "metadata": {
      "needs_background": "light"
     },
     "output_type": "display_data"
    }
   ],
   "source": [
    "import matplotlib.pyplot\n",
    "\n",
    "matplotlib.pyplot.plot(recalls, precisions, linewidth=4, color=\"red\")\n",
    "matplotlib.pyplot.xlabel(\"Recall\", fontsize=12, fontweight='bold')\n",
    "matplotlib.pyplot.ylabel(\"Precision\", fontsize=12, fontweight='bold')\n",
    "matplotlib.pyplot.title(\"Precision-Recall Curve\", fontsize=15, fontweight=\"bold\")\n",
    "matplotlib.pyplot.show()"
   ]
  },
  {
   "cell_type": "markdown",
   "metadata": {},
   "source": [
    "Note that as the recall increases, the precision decreases. The reason is that when the number of positive samples increases (high recall), the accuracy of classifying each sample correctly decreases (low precision). This is expected, as the model is more likely to fail when there are many samples.\n",
    "\n",
    "The precision-recall curve makes it easy to decide the point where both the precision and recall are high. According to the previous figure, the best point is (recall, precision)=(0.778, 0.875).\n",
    "\n",
    "Graphically deciding the best values for both the precision and recall might work using the previous figure because the curve is not complex. A better way is to use a metric called the f1 score, which is calculated according to the next equation.\n",
    "\n",
    "<div> <img src=\"images/fig53.png\" alt=\"Drawing\" style=\"width: 200px;\"/></div> \n",
    "\n",
    "The f1 metric measures the balance between precision and recall. When the value of f1 is high, this means both the precision and recall are high. A lower f1 score means a greater imbalance between precision and recall.\n",
    "\n",
    "According to the previous example, the f1 is calculated according to the code below. According to the values in the f1 list, the highest score is 0.82352941. It is the 6th element in the list (i.e. index 5). The 6th elements in the recalls and precisions lists are 0.778 and 0.875, respectively. The corresponding threshold value is 0.45."
   ]
  },
  {
   "cell_type": "code",
   "execution_count": 32,
   "metadata": {},
   "outputs": [
    {
     "data": {
      "text/plain": [
       "array([0.72      , 0.69565217, 0.69565217, 0.7       , 0.73684211,\n",
       "       0.82352941, 0.82352941, 0.8       , 0.71428571, 0.61538462])"
      ]
     },
     "execution_count": 32,
     "metadata": {},
     "output_type": "execute_result"
    }
   ],
   "source": [
    "f1 = 2 * ((numpy.array(precisions) * numpy.array(recalls)) / (numpy.array(precisions) + numpy.array(recalls)))\n",
    "f1"
   ]
  },
  {
   "cell_type": "code",
   "execution_count": 33,
   "metadata": {},
   "outputs": [
    {
     "data": {
      "text/plain": [
       "0.823529411764706"
      ]
     },
     "execution_count": 33,
     "metadata": {},
     "output_type": "execute_result"
    }
   ],
   "source": [
    "max(f1)"
   ]
  },
  {
   "cell_type": "code",
   "execution_count": 35,
   "metadata": {},
   "outputs": [
    {
     "data": {
      "text/plain": [
       "5"
      ]
     },
     "execution_count": 35,
     "metadata": {},
     "output_type": "execute_result"
    }
   ],
   "source": [
    "numpy.argmax(f1)"
   ]
  },
  {
   "cell_type": "markdown",
   "metadata": {},
   "source": [
    "The next figure shows, in blue, the location of the point that corresponds to the best balance between the recall and the precision. In conclusion, the best threshold to balance the precision and recall is 0.45 at which the precision is 0.875 and the recall is 0.778."
   ]
  },
  {
   "cell_type": "code",
   "execution_count": 36,
   "metadata": {},
   "outputs": [
    {
     "data": {
      "image/png": "[encoded data removed]",
      "text/plain": [
       "<Figure size 432x288 with 1 Axes>"
      ]
     },
     "metadata": {
      "needs_background": "light"
     },
     "output_type": "display_data"
    }
   ],
   "source": [
    "matplotlib.pyplot.plot(recalls, precisions, linewidth=4, color=\"red\", zorder=0)\n",
    "matplotlib.pyplot.scatter(recalls[5], precisions[5], zorder=1, linewidth=6)\n",
    "\n",
    "matplotlib.pyplot.xlabel(\"Recall\", fontsize=12, fontweight='bold')\n",
    "matplotlib.pyplot.ylabel(\"Precision\", fontsize=12, fontweight='bold')\n",
    "matplotlib.pyplot.title(\"Precision-Recall Curve\", fontsize=15, fontweight=\"bold\")\n",
    "matplotlib.pyplot.show()"
   ]
  },
  {
   "cell_type": "markdown",
   "metadata": {},
   "source": [
    "After the precision-recall curve is discussed, the next section discusses how to calculate the average precision."
   ]
  },
  {
   "cell_type": "markdown",
   "metadata": {},
   "source": [
    "## Average Precision (AP)\n",
    "\n",
    "The average precision (AP) is a way to summarize the precision-recall curve into a single value representing the average of all precisions. The AP is calculated according to the next equation. Using a loop that goes through all precisions/recalls, the difference between the current and next recalls is calculated and then multiplied by the current precision. In other words, **the AP is the weighted sum of precisions at each threshold where the weight is the increase in recall**.\n",
    "\n",
    "<div> <img src=\"images/fig54.png\" alt=\"Drawing\" style=\"width: 400px;\"/></div>"
   ]
  },
  {
   "cell_type": "markdown",
   "metadata": {},
   "source": [
    "It is important to append the recalls and precisions lists by 0 and 1, respectively. For example, if the recalls list is \n",
    "\n",
    "> 0.8,0.6\n",
    "\n",
    "then it should have 0 appended to be\n",
    "\n",
    "> 0.8,0.6,0.0\n",
    "\n",
    "The same happens for the precisions list but have 1 rather than 0 appended (e.g.\n",
    "\n",
    "> 0.8,0.6,1.0\n",
    "\n",
    "Given that both recalls and precisions are NumPy arrays, the previous equation is modeled according to the next Python line."
   ]
  },
  {
   "cell_type": "code",
   "execution_count": 37,
   "metadata": {},
   "outputs": [
    {
     "ename": "TypeError",
     "evalue": "unsupported operand type(s) for -: 'list' and 'list'",
     "output_type": "error",
     "traceback": [
      "\u001b[1;31m---------------------------------------------------------------------------\u001b[0m",
      "\u001b[1;31mTypeError\u001b[0m                                 Traceback (most recent call last)",
      "\u001b[1;32m~\\AppData\\Local\\Temp/ipykernel_6200/2325439894.py\u001b[0m in \u001b[0;36m<module>\u001b[1;34m\u001b[0m\n\u001b[1;32m----> 1\u001b[1;33m \u001b[0mAP\u001b[0m \u001b[1;33m=\u001b[0m \u001b[0mnumpy\u001b[0m\u001b[1;33m.\u001b[0m\u001b[0msum\u001b[0m\u001b[1;33m(\u001b[0m\u001b[1;33m(\u001b[0m\u001b[0mrecalls\u001b[0m\u001b[1;33m[\u001b[0m\u001b[1;33m:\u001b[0m\u001b[1;33m-\u001b[0m\u001b[1;36m1\u001b[0m\u001b[1;33m]\u001b[0m \u001b[1;33m-\u001b[0m \u001b[0mrecalls\u001b[0m\u001b[1;33m[\u001b[0m\u001b[1;36m1\u001b[0m\u001b[1;33m:\u001b[0m\u001b[1;33m]\u001b[0m\u001b[1;33m)\u001b[0m \u001b[1;33m*\u001b[0m \u001b[0mprecisions\u001b[0m\u001b[1;33m[\u001b[0m\u001b[1;33m:\u001b[0m\u001b[1;33m-\u001b[0m\u001b[1;36m1\u001b[0m\u001b[1;33m]\u001b[0m\u001b[1;33m)\u001b[0m\u001b[1;33m\u001b[0m\u001b[1;33m\u001b[0m\u001b[0m\n\u001b[0m",
      "\u001b[1;31mTypeError\u001b[0m: unsupported operand type(s) for -: 'list' and 'list'"
     ]
    }
   ],
   "source": [
    "AP = numpy.sum((recalls[:-1] - recalls[1:]) * precisions[:-1])"
   ]
  },
  {
   "cell_type": "markdown",
   "metadata": {},
   "source": [
    "Here is the complete code that calculates the AP."
   ]
  },
  {
   "cell_type": "code",
   "execution_count": 38,
   "metadata": {},
   "outputs": [
    {
     "name": "stdout",
     "output_type": "stream",
     "text": [
      "0.8898809523809523\n"
     ]
    }
   ],
   "source": [
    "import numpy\n",
    "import sklearn.metrics\n",
    "\n",
    "def precision_recall_curve(y_true, pred_scores, thresholds):\n",
    "    precisions = []\n",
    "    recalls = []\n",
    "    \n",
    "    for threshold in thresholds:\n",
    "        y_pred = [\"positive\" if score >= threshold else \"negative\" for score in pred_scores]\n",
    "\n",
    "        precision = sklearn.metrics.precision_score(y_true=y_true, y_pred=y_pred, pos_label=\"positive\")\n",
    "        recall = sklearn.metrics.recall_score(y_true=y_true, y_pred=y_pred, pos_label=\"positive\")\n",
    "        \n",
    "        precisions.append(precision)\n",
    "        recalls.append(recall)\n",
    "\n",
    "    return precisions, recalls\n",
    "\n",
    "y_true = [\"positive\", \"negative\", \"negative\", \"positive\", \"positive\", \"positive\", \"negative\", \"positive\", \"negative\", \"positive\", \"positive\", \"positive\", \"positive\", \"negative\", \"negative\", \"negative\"]\n",
    "pred_scores = [0.7, 0.3, 0.5, 0.6, 0.55, 0.9, 0.4, 0.2, 0.4, 0.3, 0.7, 0.5, 0.8, 0.2, 0.3, 0.35]\n",
    "thresholds=numpy.arange(start=0.2, stop=0.7, step=0.05)\n",
    "\n",
    "precisions, recalls = precision_recall_curve(y_true=y_true, \n",
    "                                             pred_scores=pred_scores, \n",
    "                                             thresholds=thresholds)\n",
    "\n",
    "precisions.append(1)\n",
    "recalls.append(0)\n",
    "\n",
    "precisions = numpy.array(precisions)\n",
    "recalls = numpy.array(recalls)\n",
    "\n",
    "AP = numpy.sum((recalls[:-1] - recalls[1:]) * precisions[:-1])\n",
    "print(AP)"
   ]
  },
  {
   "cell_type": "markdown",
   "metadata": {},
   "source": [
    "This is all about the average precision. Here is a summary of the steps to calculate the AP:\n",
    "\n",
    "- Generate the **prediction scores** using the model.\n",
    "- Convert the **prediction scores to class labels**.\n",
    "- Calculate the **confusion matrix**.\n",
    "- Calculate the **precision and recall** metrics.\n",
    "- Create the **precision-recall curve**.\n",
    "- Measure the **average precision**.\n",
    "\n",
    "The next section talks about the **intersection over union (IoU)** which is how an object detection generates the prediction scores."
   ]
  },
  {
   "cell_type": "markdown",
   "metadata": {},
   "source": [
    "## Intersection over Union (IoU)\n",
    "\n",
    "To train an object detection model, usually, there are 2 inputs:\n",
    "\n",
    "- An image.\n",
    "- Ground-truth bounding boxes for each object in the image.\n",
    "\n",
    "The model predicts the bounding boxes of the detected objects. It is expected that the predicted box will not match exactly the ground-truth box. The next figure shows a cat image. The ground-truth box of the object is in red while the predicted one is in yellow. Based on the visualization of the 2 boxes, is the model made a good prediction with a high match score?\n",
    "\n",
    "It is difficult to subjectively evaluate the model predictions. For example, someone may conclude that there is a 50% match while someone else notices that there is a 60% match.\n",
    "\n",
    "<div> <img src=\"images/fig55.png\" alt=\"Drawing\" style=\"width: 500px;\"/></div> \n",
    "\n",
    "A better alternative is to use a quantitative measure to score how the ground-truth and predicted boxes match. This measure is the **intersection over union (IoU)**. The IoU helps to know if a region has an object or not.\n",
    "\n",
    "The IoU is calculated according to the next equation by dividing the area of intersection between the 2 boxes by the area of their union. The higher the IoU, the better the prediction.\n",
    "\n",
    "<div> <img src=\"images/fig56.png\" alt=\"Drawing\" style=\"width: 500px;\"/></div> \n",
    "\n",
    "The next figure shows 3 cases with different IoUs. Note that the IoUs at the top of each case are objectively measured and may differ a bit from the reality but it makes sense.\n",
    "\n",
    "For case A, the predicted box in yellow is so far from being aligned on the red ground-truth box and thus the IoU score is 0.2 (i.e. there is only a 20% overlap between the 2 boxes).\n",
    "\n",
    "For case B, the intersection area between the 2 boxes is larger but the 2 boxes are still not aligned well and thus the IoU score is 0.5.\n",
    "\n",
    "For case C, the coordinates of the 2 boxes are so close and thus their IoU is 0.9 (i.e. there is a 90% overlap between the 2 boxes).\n",
    "\n",
    "Note that the IoU is 0.0 when there is a 0% overlap between the predicted and ground-truth boxes. The IoU is 1.0 when the 2 boxes fit each other 100%.\n",
    "\n",
    "<div> <img src=\"images/fig57.png\" alt=\"Drawing\" style=\"width: 500px;\"/></div> \n",
    "\n",
    "To calculate the IoU for an image, here is a function named intersection_over_union(). It accepts the following 2 parameters:\n",
    "\n",
    "1. `gt_box`: Ground-truth bounding box.\n",
    "2. `pred_box`: Predicted bounding box.\n",
    "\n",
    "It calculates the intersection and union between the 2 boxes in the `intersection` and `union` variables, respectively. Moreover, the IoU is calculated in the `iou` variable. It returns all of these 3 variables."
   ]
  },
  {
   "cell_type": "code",
   "execution_count": 40,
   "metadata": {},
   "outputs": [],
   "source": [
    "def intersection_over_union(gt_box, pred_box):\n",
    "    inter_box_top_left = [max(gt_box[0], pred_box[0]), max(gt_box[1], pred_box[1])]\n",
    "    inter_box_bottom_right = [min(gt_box[0]+gt_box[2], pred_box[0]+pred_box[2]), min(gt_box[1]+gt_box[3], pred_box[1]+pred_box[3])]\n",
    "\n",
    "    inter_box_w = inter_box_bottom_right[0] - inter_box_top_left[0]\n",
    "    inter_box_h = inter_box_bottom_right[1] - inter_box_top_left[1]\n",
    "\n",
    "    intersection = inter_box_w * inter_box_h\n",
    "    union = gt_box[2] * gt_box[3] + pred_box[2] * pred_box[3] - intersection\n",
    "    \n",
    "    iou = intersection / union\n",
    "\n",
    "    return iou, intersection, union"
   ]
  },
  {
   "cell_type": "markdown",
   "metadata": {},
   "source": [
    "The bounding box passed to the function is a list of 4 elements which are:\n",
    "\n",
    "- The x-axis of the top-left corner.\n",
    "- The y-axis of the top-left corner.\n",
    "- Width.\n",
    "- Height.\n",
    "\n",
    "Here are the ground-truth and predicted bounding boxes of the cat image."
   ]
  },
  {
   "cell_type": "code",
   "execution_count": 41,
   "metadata": {},
   "outputs": [],
   "source": [
    "gt_box = [45, 28, 140, 210]\n",
    "pred_box = [30, 40, 140, 140]"
   ]
  },
  {
   "cell_type": "markdown",
   "metadata": {},
   "source": [
    "Given that the image of the cat, here is the complete that draws the bounding boxes over the image."
   ]
  },
  {
   "cell_type": "code",
   "execution_count": 50,
   "metadata": {},
   "outputs": [
    {
     "data": {
      "text/plain": [
       "[]"
      ]
     },
     "execution_count": 50,
     "metadata": {},
     "output_type": "execute_result"
    },
    {
     "data": {
      "image/png": "[encoded data removed]",
      "text/plain": [
       "<Figure size 432x288 with 1 Axes>"
      ]
     },
     "metadata": {},
     "output_type": "display_data"
    }
   ],
   "source": [
    "import imageio\n",
    "import matplotlib.pyplot\n",
    "import matplotlib.patches\n",
    "\n",
    "def intersection_over_union(gt_box, pred_box):\n",
    "    inter_box_top_left = [max(gt_box[0], pred_box[0]), max(gt_box[1], pred_box[1])]\n",
    "    inter_box_bottom_right = [min(gt_box[0]+gt_box[2], pred_box[0]+pred_box[2]), min(gt_box[1]+gt_box[3], pred_box[1]+pred_box[3])]\n",
    "\n",
    "    inter_box_w = inter_box_bottom_right[0] - inter_box_top_left[0]\n",
    "    inter_box_h = inter_box_bottom_right[1] - inter_box_top_left[1]\n",
    "\n",
    "    intersection = inter_box_w * inter_box_h\n",
    "    union = gt_box[2] * gt_box[3] + pred_box[2] * pred_box[3] - intersection\n",
    "    \n",
    "    iou = intersection / union\n",
    "\n",
    "    return iou, intersection, union\n",
    "\n",
    "im = imageio.imread(\"images/fig58.png\")\n",
    "\n",
    "gt_box = [45, 28, 140, 210]\n",
    "pred_box = [30, 40, 140, 140]\n",
    "\n",
    "fig, ax = matplotlib.pyplot.subplots(1)\n",
    "ax.imshow(im)\n",
    "\n",
    "gt_rect = matplotlib.patches.Rectangle((gt_box[0], gt_box[1]),\n",
    "                                       gt_box[2],\n",
    "                                       gt_box[3],\n",
    "                                       linewidth=5,\n",
    "                                       edgecolor='r',\n",
    "                                       facecolor='none')\n",
    "\n",
    "pred_rect = matplotlib.patches.Rectangle((pred_box[0], pred_box[1]),\n",
    "                                         pred_box[2],\n",
    "                                         pred_box[3],\n",
    "                                         linewidth=5,\n",
    "                                         edgecolor=(1, 1, 0),\n",
    "                                         facecolor='none')\n",
    "ax.add_patch(gt_rect)\n",
    "ax.add_patch(pred_rect)\n",
    "\n",
    "ax.axes.get_xaxis().set_ticks([])\n",
    "ax.axes.get_yaxis().set_ticks([])"
   ]
  },
  {
   "cell_type": "markdown",
   "metadata": {},
   "source": [
    "To calculate the IoU, just call the intersection_over_union() function. Based on the bounding boxes, the IoU score is 0.56."
   ]
  },
  {
   "cell_type": "code",
   "execution_count": 52,
   "metadata": {},
   "outputs": [
    {
     "name": "stdout",
     "output_type": "stream",
     "text": [
      "0.5555555555555556 17500 31500\n"
     ]
    }
   ],
   "source": [
    "iou, intersect, union = intersection_over_union(gt_box, pred_box)\n",
    "print(iou, intersect, union)"
   ]
  },
  {
   "cell_type": "markdown",
   "metadata": {},
   "source": [
    "The IoU score 0.56 means there is a **56% overlap between the ground-truth and predicted bounding boxes**. Looking at the boxes, someone may visually feel it is good enough to conclude that the model detected the cat object. Someone else may feel the model is not yet accurate as the predicted box does not fit the ground-truth box well.\n",
    "\n",
    "To objectively judge whether the model predicted the box location correctly or not, a threshold is used. If the model predicts a box with an IoU score greater than or equal to the threshold, then there is a high overlap between the predicted box and one of the ground-truth boxes. This means the model was able to detect an object successfully. The detected region is classified as **Positive** (i.e. contains an object).\n",
    "\n",
    "On the other hand, when the IoU score is smaller than the **threshold**, then the model made a bad prediction as the predicted box does not overlap with the ground-truth box. This means the detected region is classified as **Negative** (i.e. does not contain an object).\n",
    "\n",
    "<div> <img src=\"images/fig59.png\" alt=\"Drawing\" style=\"width: 500px;\"/></div> \n",
    "\n",
    "## Mean Average Precision (mAP) for Object Detection\n",
    "\n",
    "Usually, the object detection models are evaluated with different IoU thresholds where each threshold may give different predictions from the other thresholds. Assume that the model is fed by an image that has 10 objects distributed across 2 classes. How to calculate the mAP?\n",
    "\n",
    "**To calculate the mAP, start by calculating the AP for each class. The mean of the APs for all classes is the mAP.**\n",
    "\n",
    "Assuming that the dataset used has only 2 classes. For the first class, here are the ground-truth labels and predicted scores in the `y_true` and `pred_scores` variables, respectively."
   ]
  },
  {
   "cell_type": "code",
   "execution_count": 58,
   "metadata": {},
   "outputs": [],
   "source": [
    "y_true1 = [\"positive\", \"negative\", \"positive\", \"negative\", \"positive\", \"positive\", \"positive\", \"negative\", \"positive\", \"negative\"]\n",
    "\n",
    "pred_scores1 = [0.7, 0.3, 0.5, 0.6, 0.55, 0.9, 0.75, 0.2, 0.8, 0.3]"
   ]
  },
  {
   "cell_type": "markdown",
   "metadata": {},
   "source": [
    "Here are the `y_true` and `pred_scores` variables of the second class."
   ]
  },
  {
   "cell_type": "code",
   "execution_count": 59,
   "metadata": {},
   "outputs": [],
   "source": [
    "y_true2 = [\"negative\", \"positive\", \"positive\", \"negative\", \"negative\", \"positive\", \"positive\", \"positive\", \"negative\", \"positive\"]\n",
    "\n",
    "pred_scores2 = [0.32, 0.9, 0.5, 0.1, 0.25, 0.9, 0.55, 0.3, 0.35, 0.85]"
   ]
  },
  {
   "cell_type": "markdown",
   "metadata": {},
   "source": [
    "The list of IoU thresholds starts from 0.2 to 0.9 with 0.25 step."
   ]
  },
  {
   "cell_type": "code",
   "execution_count": 60,
   "metadata": {},
   "outputs": [],
   "source": [
    "thresholds = numpy.arange(start=0.2, stop=0.9, step=0.05)"
   ]
  },
  {
   "cell_type": "markdown",
   "metadata": {},
   "source": [
    "To calculate the AP for a class, just feed its y_true and pred_scores variables to the next code."
   ]
  },
  {
   "cell_type": "code",
   "execution_count": 61,
   "metadata": {},
   "outputs": [
    {
     "data": {
      "image/png": "[encoded data removed]",
      "text/plain": [
       "<Figure size 432x288 with 1 Axes>"
      ]
     },
     "metadata": {
      "needs_background": "light"
     },
     "output_type": "display_data"
    },
    {
     "name": "stdout",
     "output_type": "stream",
     "text": [
      "0.9484126984126984\n"
     ]
    }
   ],
   "source": [
    "precisions, recalls = precision_recall_curve(y_true=y_true1, \n",
    "                                             pred_scores=pred_scores1, \n",
    "                                             thresholds=thresholds)\n",
    "\n",
    "matplotlib.pyplot.plot(recalls, precisions, linewidth=4, color=\"red\", zorder=0)\n",
    "\n",
    "matplotlib.pyplot.xlabel(\"Recall\", fontsize=12, fontweight='bold')\n",
    "matplotlib.pyplot.ylabel(\"Precision\", fontsize=12, fontweight='bold')\n",
    "matplotlib.pyplot.title(\"Precision-Recall Curve\", fontsize=15, fontweight=\"bold\")\n",
    "matplotlib.pyplot.show()\n",
    "\n",
    "precisions.append(1)\n",
    "recalls.append(0)\n",
    "\n",
    "precisions = numpy.array(precisions)\n",
    "recalls = numpy.array(recalls)\n",
    "\n",
    "AP = numpy.sum((recalls[:-1] - recalls[1:]) * precisions[:-1])\n",
    "print(AP)"
   ]
  },
  {
   "cell_type": "markdown",
   "metadata": {},
   "source": [
    "For the first class, here is its precision-recall curve. Based on this curve, the AP is 0.949.\n",
    "\n",
    "The precision-recall curve of the second class is shown below. Its AP is 0.958."
   ]
  },
  {
   "cell_type": "code",
   "execution_count": 62,
   "metadata": {},
   "outputs": [
    {
     "data": {
      "image/png": "[encoded data removed]",
      "text/plain": [
       "<Figure size 432x288 with 1 Axes>"
      ]
     },
     "metadata": {
      "needs_background": "light"
     },
     "output_type": "display_data"
    },
    {
     "name": "stdout",
     "output_type": "stream",
     "text": [
      "0.9583333333333334\n"
     ]
    }
   ],
   "source": [
    "precisions, recalls = precision_recall_curve(y_true=y_true2, \n",
    "                                             pred_scores=pred_scores2, \n",
    "                                             thresholds=thresholds)\n",
    "\n",
    "matplotlib.pyplot.plot(recalls, precisions, linewidth=4, color=\"red\", zorder=0)\n",
    "\n",
    "matplotlib.pyplot.xlabel(\"Recall\", fontsize=12, fontweight='bold')\n",
    "matplotlib.pyplot.ylabel(\"Precision\", fontsize=12, fontweight='bold')\n",
    "matplotlib.pyplot.title(\"Precision-Recall Curve\", fontsize=15, fontweight=\"bold\")\n",
    "matplotlib.pyplot.show()\n",
    "\n",
    "precisions.append(1)\n",
    "recalls.append(0)\n",
    "\n",
    "precisions = numpy.array(precisions)\n",
    "recalls = numpy.array(recalls)\n",
    "\n",
    "AP = numpy.sum((recalls[:-1] - recalls[1:]) * precisions[:-1])\n",
    "print(AP)"
   ]
  },
  {
   "cell_type": "markdown",
   "metadata": {},
   "source": [
    "Based on the APs of the 2 classes (0.949 and 0.958), the mAP of the object detection model is calculated according to the next equation.\n",
    "\n",
    "<div> <img src=\"images/fig60.png\" alt=\"Drawing\" style=\"width: 500px;\"/></div> \n",
    "\n",
    "Based on this equation, the mAP is 0.9535."
   ]
  },
  {
   "cell_type": "code",
   "execution_count": 65,
   "metadata": {},
   "outputs": [
    {
     "data": {
      "text/plain": [
       "0.9535"
      ]
     },
     "execution_count": 65,
     "metadata": {},
     "output_type": "execute_result"
    }
   ],
   "source": [
    "mAP = (0.949 + 0.958)/2\n",
    "mAP"
   ]
  },
  {
   "cell_type": "markdown",
   "metadata": {},
   "source": [
    "## Conclusion\n",
    "\n",
    "This tutorial discussed how to calculate the mean average precision (mAP) for an object detection model. We started by discussing how to convert a prediction score to a class label. Using different thresholds, a precision-recall curve is created. From that curve, the average precision (AP) is measured.\n",
    "\n",
    "For an object detection model, the threshold is the intersection over union (IoU) that scores the detected objects. Once the AP is measured for each class in the dataset, the mAP is calculated."
   ]
  },
  {
   "cell_type": "code",
   "execution_count": null,
   "metadata": {},
   "outputs": [],
   "source": []
  }
 ],
 "metadata": {
  "kernelspec": {
   "display_name": "Python 3.7 (pytorch_hasan)",
   "language": "python",
   "name": "torch"
  },
  "language_info": {
   "codemirror_mode": {
    "name": "ipython",
    "version": 3
   },
   "file_extension": ".py",
   "mimetype": "text/x-python",
   "name": "python",
   "nbconvert_exporter": "python",
   "pygments_lexer": "ipython3",
   "version": "3.7.9"
  }
 },
 "nbformat": 4,
 "nbformat_minor": 4
}
